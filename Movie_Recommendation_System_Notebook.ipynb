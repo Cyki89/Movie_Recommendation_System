{
 "cells": [
  {
   "cell_type": "markdown",
   "metadata": {},
   "source": [
    "# Movie Recommendation System With Item-Based Collaborative Filtering "
   ]
  },
  {
   "cell_type": "markdown",
   "metadata": {},
   "source": [
    "<b> Recommendation system </b> is a subclass of information filtering system that seeks to predict the \"rating\" or \"preference\" a user would give to an item.\n",
    "\n",
    "<b> Item-based collaborative filtering </b> - is a form of collaborative filtering for recommender systems based on the similarity between items calculated using people's ratings of those items."
   ]
  },
  {
   "cell_type": "markdown",
   "metadata": {},
   "source": [
    "# 1 Import nessesary libraries and modules"
   ]
  },
  {
   "cell_type": "code",
   "execution_count": 1,
   "metadata": {},
   "outputs": [],
   "source": [
    "from pyspark.sql import SparkSession,Row\n",
    "from pyspark.sql import functions as f\n",
    "from pyspark.ml.linalg import Vectors\n",
    "from pyspark.ml import feature\n",
    "from pyspark.ml.feature import CountVectorizer\n",
    "import numpy as np\n",
    "import seaborn as sns\n",
    "import matplotlib.pyplot as plt\n",
    "import pickle"
   ]
  },
  {
   "cell_type": "markdown",
   "metadata": {},
   "source": [
    "# 2 Start Spark session"
   ]
  },
  {
   "cell_type": "code",
   "execution_count": 2,
   "metadata": {},
   "outputs": [],
   "source": [
    "spark = SparkSession.builder.appName('my_app').master(\"local[*]\").getOrCreate()"
   ]
  },
  {
   "cell_type": "markdown",
   "metadata": {},
   "source": [
    "# 3  Create movie names and movie categories lookup tables"
   ]
  },
  {
   "cell_type": "markdown",
   "metadata": {},
   "source": [
    "## 3.1 Define helper functions"
   ]
  },
  {
   "cell_type": "code",
   "execution_count": 3,
   "metadata": {},
   "outputs": [],
   "source": [
    "def parseMovieLine(line):\n",
    "    '''parse single line from movies.csv'''\n",
    "    items = line.split(',', maxsplit=1)\n",
    "    movieId = int(items[0])\n",
    "    residue = items[1]\n",
    "    if residue[0] == '\"':\n",
    "        residueSplitted = residue.split('\"')\n",
    "        movieName = residueSplitted[1]\n",
    "        categories = residueSplitted[2].split('|')[1:]\n",
    "    else:\n",
    "        residueSplitted = residue.split(',')\n",
    "        movieName = residueSplitted[0]\n",
    "        categories = residueSplitted[1].split('|')\n",
    "    return movieId, movieName, categories"
   ]
  },
  {
   "cell_type": "markdown",
   "metadata": {},
   "source": [
    "## 3.2 Create movie dataframe"
   ]
  },
  {
   "cell_type": "code",
   "execution_count": 4,
   "metadata": {},
   "outputs": [
    {
     "name": "stdout",
     "output_type": "stream",
     "text": [
      "+---+--------------------+--------------------+\n",
      "| id|                name|          categories|\n",
      "+---+--------------------+--------------------+\n",
      "|  1|    Toy Story (1995)|[Adventure, Anima...|\n",
      "|  2|      Jumanji (1995)|[Adventure, Child...|\n",
      "|  3|Grumpier Old Men ...|   [Comedy, Romance]|\n",
      "|  4|Waiting to Exhale...|[Comedy, Drama, R...|\n",
      "|  5|Father of the Bri...|            [Comedy]|\n",
      "|  6|         Heat (1995)|[Action, Crime, T...|\n",
      "|  7|      Sabrina (1995)|   [Comedy, Romance]|\n",
      "|  8| Tom and Huck (1995)|[Adventure, Child...|\n",
      "|  9| Sudden Death (1995)|            [Action]|\n",
      "| 10|    GoldenEye (1995)|[Action, Adventur...|\n",
      "| 11|American Presiden...|    [Drama, Romance]|\n",
      "| 12|Dracula: Dead and...|    [Comedy, Horror]|\n",
      "| 13|        Balto (1995)|[Adventure, Anima...|\n",
      "| 14|        Nixon (1995)|             [Drama]|\n",
      "| 15|Cutthroat Island ...|[Action, Adventur...|\n",
      "| 16|       Casino (1995)|      [Crime, Drama]|\n",
      "| 17|Sense and Sensibi...|    [Drama, Romance]|\n",
      "| 18|   Four Rooms (1995)|            [Comedy]|\n",
      "| 19|Ace Ventura: When...|            [Comedy]|\n",
      "| 20|  Money Train (1995)|[Action, Comedy, ...|\n",
      "+---+--------------------+--------------------+\n",
      "only showing top 20 rows\n",
      "\n"
     ]
    }
   ],
   "source": [
    "movieRdd = spark.sparkContext.textFile(\"./ml-latest-small/movies.csv\")\n",
    "\n",
    "# cache rdd for many applications\n",
    "movieRddParsed = movieRdd.map(parseMovieLine).cache()\n",
    "movieDataFrame = spark.createDataFrame(movieRddParsed).toDF('id', 'name', 'categories')\n",
    "movieDataFrame.show()"
   ]
  },
  {
   "cell_type": "markdown",
   "metadata": {},
   "source": [
    "## 3.3 Convert 'categories' column to numeric one-hot-encoding vector"
   ]
  },
  {
   "cell_type": "markdown",
   "metadata": {},
   "source": [
    "### 3.3.1 Get unique movie categories"
   ]
  },
  {
   "cell_type": "code",
   "execution_count": 5,
   "metadata": {
    "scrolled": true
   },
   "outputs": [
    {
     "name": "stdout",
     "output_type": "stream",
     "text": [
      "['Children', 'Fantasy', 'Romance', 'Drama', 'Action', 'Thriller', 'Horror', 'Sci-Fi', 'Musical', 'Documentary', 'IMAX', 'Western', 'Adventure', 'Animation', 'Comedy', 'Crime', 'Mystery', 'War', 'Film-Noir']\n"
     ]
    }
   ],
   "source": [
    "categories = movieRddParsed.flatMap(lambda items: [category for category in items[2]]).distinct().collect()\n",
    "# drop category no' genres listed'\n",
    "categories.remove('(no genres listed)')\n",
    "print(categories)"
   ]
  },
  {
   "cell_type": "markdown",
   "metadata": {},
   "source": [
    "### 3.3.2 Transform string category vector to sparse one-hot-encoding vector  using CountVectorizer"
   ]
  },
  {
   "cell_type": "code",
   "execution_count": 6,
   "metadata": {},
   "outputs": [
    {
     "name": "stdout",
     "output_type": "stream",
     "text": [
      "-RECORD 0-------------------------------------------------\n",
      " id            | 1                                        \n",
      " name          | Toy Story (1995)                         \n",
      " categoriesVec | (19,[1,5,9,10,12],[1.0,1.0,1.0,1.0,1.0]) \n",
      "-RECORD 1-------------------------------------------------\n",
      " id            | 2                                        \n",
      " name          | Jumanji (1995)                           \n",
      " categoriesVec | (19,[5,9,10],[1.0,1.0,1.0])              \n",
      "-RECORD 2-------------------------------------------------\n",
      " id            | 3                                        \n",
      " name          | Grumpier Old Men (1995)                  \n",
      " categoriesVec | (19,[1,3],[1.0,1.0])                     \n",
      "only showing top 3 rows\n",
      "\n"
     ]
    }
   ],
   "source": [
    "cv = CountVectorizer(inputCol='categories', outputCol='categoriesVec', vocabSize=len(categories))\n",
    "\n",
    "cvModel = cv.fit(movieDataFrame)\n",
    "movieDataFrame = cvModel.transform(movieDataFrame)\n",
    "movieDataFrame = movieDataFrame.drop('categories')\n",
    "movieDataFrame.show(n=3,truncate=False, vertical=True)"
   ]
  },
  {
   "cell_type": "markdown",
   "metadata": {},
   "source": [
    "## 3.4 Create movie name lookup table as dictionary {movieId : movieName}"
   ]
  },
  {
   "cell_type": "code",
   "execution_count": 7,
   "metadata": {},
   "outputs": [
    {
     "name": "stdout",
     "output_type": "stream",
     "text": [
      "1 Toy Story (1995)\n",
      "2 Jumanji (1995)\n",
      "3 Grumpier Old Men (1995)\n",
      "4 Waiting to Exhale (1995)\n",
      "5 Father of the Bride Part II (1995)\n",
      "6 Heat (1995)\n",
      "7 Sabrina (1995)\n",
      "8 Tom and Huck (1995)\n",
      "9 Sudden Death (1995)\n",
      "10 GoldenEye (1995)\n"
     ]
    }
   ],
   "source": [
    "movieNameDataFrame = movieDataFrame.select('id', 'name')\n",
    "movieNameDict = dict(movieNameDataFrame.toPandas().values)\n",
    "\n",
    "# save name dict for future use\n",
    "with open('movieNameDict.pickle', 'wb') as f:\n",
    "    # pickle the 'models'using the highest protocol available.\n",
    "    pickle.dump(movieNameDict, f, pickle.HIGHEST_PROTOCOL)\n",
    "\n",
    "# load previously saved name dict to check correctivness of serialize/deserialize processes\n",
    "with open('movieNameDict.pickle', 'rb') as f:\n",
    "    movieNameDict = pickle.load(f)\n",
    "\n",
    "# show some example\n",
    "for i in range(1,11):\n",
    "    print(i, movieNameDict[i])"
   ]
  },
  {
   "cell_type": "markdown",
   "metadata": {},
   "source": [
    "## 3.5 Create movie category lookup table as dictionary {movieId : categoriesVec}"
   ]
  },
  {
   "cell_type": "code",
   "execution_count": 8,
   "metadata": {
    "scrolled": true
   },
   "outputs": [
    {
     "name": "stdout",
     "output_type": "stream",
     "text": [
      "1 (19,[1,5,9,10,12],[1.0,1.0,1.0,1.0,1.0])\n",
      "2 (19,[5,9,10],[1.0,1.0,1.0])\n",
      "3 (19,[1,3],[1.0,1.0])\n",
      "4 (19,[0,1,3],[1.0,1.0,1.0])\n",
      "5 (19,[1],[1.0])\n",
      "6 (19,[2,4,6],[1.0,1.0,1.0])\n",
      "7 (19,[1,3],[1.0,1.0])\n",
      "8 (19,[5,10],[1.0,1.0])\n",
      "9 (19,[4],[1.0])\n",
      "10 (19,[2,4,5],[1.0,1.0,1.0])\n"
     ]
    }
   ],
   "source": [
    "movieCategoryDataFrame = movieDataFrame.select('id', 'categoriesVec')\n",
    "movieCategoryDict = dict(movieCategoryDataFrame.toPandas().values)\n",
    "\n",
    "# show some example\n",
    "for i in range(1,11):\n",
    "    print(i, movieCategoryDict[i])"
   ]
  },
  {
   "cell_type": "markdown",
   "metadata": {},
   "source": [
    "# 4 Create RDD of movie similarities"
   ]
  },
  {
   "cell_type": "markdown",
   "metadata": {},
   "source": [
    "## 4.1 Define helper functions"
   ]
  },
  {
   "cell_type": "code",
   "execution_count": 9,
   "metadata": {},
   "outputs": [],
   "source": [
    "def parseRatingLine(line):\n",
    "    '''parse single line from movies.csv'''\n",
    "    userId, movieId, rating = line.split(',')[:3]\n",
    "    return int(userId), ( int(movieId), float(rating) )\n",
    "\n",
    "\n",
    "def filterPopularMovies(line, movieCounter):\n",
    "    '''filter out movies below counter threshold'''\n",
    "    counter = line[1]\n",
    "    return counter >= movieCounter\n",
    "\n",
    "\n",
    "def filterDuplicates(userRatings):\n",
    "    '''fitler out duplicate movies ratings'''\n",
    "    ratings = userRatings[1]\n",
    "    movie1, rating1 = ratings[0]\n",
    "    movie2, rating2 = ratings[1]\n",
    "    return movie1 < movie2\n",
    "\n",
    "\n",
    "def makePairs(userRatings):\n",
    "    '''make every movie rating pairs'''\n",
    "    ratings = userRatings[1]\n",
    "    movie1, rating1 = ratings[0]\n",
    "    movie2, rating2 = ratings[1]\n",
    "    return (movie1, movie2), (rating1, rating2)\n",
    "\n",
    "\n",
    "def addCatVec(items, movieDict):\n",
    "    '''add category vector to RDD'''\n",
    "    key, value = items\n",
    "    return (key, (value, (movieDict[key[0]], movieDict[key[1]]) ) )\n",
    "\n",
    "def computeSimilarity(items):\n",
    "    '''compute similarity between movie ratings'''\n",
    "    \n",
    "    ratingPairs, categoryVectors = items\n",
    "    categoryVectorX, categoryVectorY = categoryVectors\n",
    "    \n",
    "    ratingsX, ratingsY, numPairs = [], [], 0\n",
    "    for ratingX, ratingY in ratingPairs:\n",
    "        ratingsX.append(ratingX)\n",
    "        ratingsY.append(ratingY)\n",
    "        numPairs += 1\n",
    "    \n",
    "    movieSim = float(np.dot(ratingsX, ratingsY) / (np.linalg.norm(ratingsX) * np.linalg.norm(ratingsY)))\n",
    "    catSim = float(np.dot(categoryVectorX, categoryVectorY) / (np.linalg.norm(categoryVectorX) \n",
    "                                                             * np.linalg.norm(categoryVectorX))) \n",
    "\n",
    "    return (movieSim, catSim, numPairs)"
   ]
  },
  {
   "cell_type": "markdown",
   "metadata": {},
   "source": [
    "## 4.2 Create a list of popular movies"
   ]
  },
  {
   "cell_type": "markdown",
   "metadata": {},
   "source": [
    "I don't want to have movies in recommendation system, that have been rated less than 50 times"
   ]
  },
  {
   "cell_type": "code",
   "execution_count": 10,
   "metadata": {},
   "outputs": [
    {
     "name": "stdout",
     "output_type": "stream",
     "text": [
      "[1, 2, 3, 6, 7, 10, 11, 16, 17, 19, 21, 25, 32, 34, 36, 39, 47, 48, 50, 62, 70, 95, 104, 110, 111, 141, 145, 150, 153, 158, 160, 161, 163, 165, 168, 172, 173, 185, 208, 223, 225, 231, 235, 253, 260, 266, 288, 292, 293, 296]\n"
     ]
    }
   ],
   "source": [
    "# create ratings RDD\n",
    "ratingRdd = spark.sparkContext.textFile(\"./ml-latest-small/ratings.csv\")\n",
    "# cache rdd for future applications\n",
    "ratingRddParsed = ratingRdd.map(parseRatingLine).cache()\n",
    "\n",
    "\n",
    "# set a occurence threshold for popular film\n",
    "OCURRENCE_THRESHOLD = 50\n",
    "\n",
    "# create popular movie list\n",
    "POPULAR_MOVIES_LIST = ratingRddParsed.map( lambda x: (x[1][0], 1) )\\\n",
    "                                      .reduceByKey(lambda x,y: x+y)\\\n",
    "                                      .filter(lambda x: filterPopularMovies(x, OCURRENCE_THRESHOLD))\\\n",
    "                                      .sortByKey()\\\n",
    "                                      .map(lambda x: x[0])\\\n",
    "                                      .collect()\n",
    "\n",
    "# show first 50 movie ID\n",
    "print(POPULAR_MOVIES_LIST[:50])"
   ]
  },
  {
   "cell_type": "markdown",
   "metadata": {},
   "source": [
    "## 4.3 Create movie similarities (cosine metric) RDD"
   ]
  },
  {
   "cell_type": "code",
   "execution_count": 11,
   "metadata": {},
   "outputs": [
    {
     "data": {
      "text/plain": [
       "[((318, 1704), (0.9824253724777434, 1.0, 111)),\n",
       " ((318, 3578), (0.9668795474112983, 1.0, 107)),\n",
       " ((318, 6874), (0.9706550101840915, 0.0, 101)),\n",
       " ((318, 48516), (0.9874014311767221, 1.0, 88)),\n",
       " ((318, 74458), (0.974999809417599, 1.0, 51)),\n",
       " ((318, 79132), (0.9773711830275497, 1.0, 105)),\n",
       " ((318, 99114), (0.9742786825968885, 1.0, 56)),\n",
       " ((318, 106782), (0.9744519580567291, 1.0, 40)),\n",
       " ((333, 58559), (0.9813378255725722, 0.0, 15)),\n",
       " ((333, 68157), (0.9865970694027583, 0.0, 10))]"
      ]
     },
     "execution_count": 11,
     "metadata": {},
     "output_type": "execute_result"
    }
   ],
   "source": [
    "# filter out ratings for not popular movies\n",
    "filteredRatings = ratingRddParsed.filter(lambda x: x[1][0] in POPULAR_MOVIES_LIST)\n",
    "\n",
    "# partition data before high computable task to speed it up\n",
    "filteredRatings = filteredRatings.partitionBy(2) # 2 => number of my virtual machine core\n",
    "\n",
    "# emit every movie rated together by the same user\n",
    "# self-join to find every combination\n",
    "joinedRatings = filteredRatings.join(filteredRatings)\n",
    "\n",
    "# at this point RDD consists: userID => ((movieID, rating), (movieID, rating))\n",
    "# filter out duplicate pairs\n",
    "uniqueJoinedRatings = joinedRatings.filter(filterDuplicates)\n",
    "\n",
    "# create key as (movieId1, movieId2) pairs.\n",
    "moviePairs = uniqueJoinedRatings.map(makePairs)\n",
    "\n",
    "# at this point RDD consists: (movie1, movie2) => (rating1, rating2)\n",
    "# collect all ratings for each movie pair\n",
    "moviePairRatings = moviePairs.groupByKey()\n",
    "\n",
    "# add category vector to RDD\n",
    "moviePairRatingsCat = moviePairRatings.map(lambda x: addCatVec(x, movieCategoryDict))\n",
    "moviePairRatingsCat.collect()[0]\n",
    "\n",
    "# at this point RDD consists: (movieId1, movieId2) => ( (rank1, rank2), ... ), (catVec1, catVec2))\n",
    "# compute similarities between ratings and movie categories\n",
    "moviePairSimilarities = moviePairRatingsCat.mapValues(computeSimilarity).cache()\n",
    "\n",
    "# at this point RDD consists: (movieId1, movieId2) => (rating-similarity, type-similarity, coOccurence)\n",
    "# show some example\n",
    "moviePairSimilarities.collect()[:10]"
   ]
  },
  {
   "cell_type": "markdown",
   "metadata": {},
   "source": [
    "# 5 Set similarity thresholds for movie ratings, category and co occurrence"
   ]
  },
  {
   "cell_type": "markdown",
   "metadata": {},
   "source": [
    "I don't want to have a movie pairs in the recommendation system, that aren't similar to each other and havn't been rated jointly by at least several dozen users"
   ]
  },
  {
   "cell_type": "markdown",
   "metadata": {},
   "source": [
    "## 5.1 Define helper functions"
   ]
  },
  {
   "cell_type": "code",
   "execution_count": 12,
   "metadata": {},
   "outputs": [],
   "source": [
    "def getScores(line):\n",
    "    '''extract score similarity, type similarity and coocurence from RDD'''\n",
    "    return line[1][0], line[1][1], line[1][2]"
   ]
  },
  {
   "cell_type": "markdown",
   "metadata": {},
   "source": [
    "## 5.2 Create movie similarity scores dataframe"
   ]
  },
  {
   "cell_type": "code",
   "execution_count": 13,
   "metadata": {},
   "outputs": [
    {
     "data": {
      "text/plain": [
       "[Row(score=0.9824253724777434, type=1.0, cooccurence=111),\n",
       " Row(score=0.9668795474112983, type=1.0, cooccurence=107),\n",
       " Row(score=0.9706550101840915, type=0.0, cooccurence=101),\n",
       " Row(score=0.9874014311767221, type=1.0, cooccurence=88),\n",
       " Row(score=0.974999809417599, type=1.0, cooccurence=51)]"
      ]
     },
     "execution_count": 13,
     "metadata": {},
     "output_type": "execute_result"
    }
   ],
   "source": [
    "movieSimilarity = moviePairSimilarities.map(getScores)\n",
    "movieSimilarityDataFrame = spark.createDataFrame(movieSimilarity).toDF('score', 'type', 'cooccurence')\n",
    "movieSimilarityDataFrame.collect()[:5]"
   ]
  },
  {
   "cell_type": "markdown",
   "metadata": {},
   "source": [
    "## 5.3 Select movie rating similarity threshold"
   ]
  },
  {
   "cell_type": "code",
   "execution_count": 14,
   "metadata": {},
   "outputs": [
    {
     "data": {
      "image/png": "[encoded data removed]",
      "text/plain": [
       "<Figure size 432x288 with 1 Axes>"
      ]
     },
     "metadata": {
      "needs_background": "light"
     },
     "output_type": "display_data"
    }
   ],
   "source": [
    "# show train reconstrucion losses distribution\n",
    "plt.title('Distribution of Similarity Scores')\n",
    "sns.distplot(movieSimilarityDataFrame.select('score').collect(), bins=100, kde=True)\n",
    "plt.ylabel('Cardinality')\n",
    "plt.xlabel('Similarity Score');"
   ]
  },
  {
   "cell_type": "code",
   "execution_count": 15,
   "metadata": {},
   "outputs": [],
   "source": [
    "# refer to above plot and intuition I select similarity score threshold above 0.9\n",
    "SCORE_THRESHOLD = 0.9"
   ]
  },
  {
   "cell_type": "markdown",
   "metadata": {},
   "source": [
    "## 5.4 Select movie type similarity threshold"
   ]
  },
  {
   "cell_type": "code",
   "execution_count": 16,
   "metadata": {},
   "outputs": [
    {
     "data": {
      "image/png": "[encoded data removed]",
      "text/plain": [
       "<Figure size 432x288 with 1 Axes>"
      ]
     },
     "metadata": {
      "needs_background": "light"
     },
     "output_type": "display_data"
    }
   ],
   "source": [
    "# show train reconstrucion losses distribution\n",
    "plt.title('Distribution of Similarity Types')\n",
    "sns.distplot(movieSimilarityDataFrame.select('type').collect(), bins=100, kde=True)\n",
    "plt.ylabel('Cardinality')\n",
    "plt.xlabel('Similarity Type');"
   ]
  },
  {
   "cell_type": "code",
   "execution_count": 17,
   "metadata": {},
   "outputs": [],
   "source": [
    "# refer to above plot and intuition I select similarity type threshold above 0 (at least one common category)\n",
    "CATEGORY_THRESHOLD = 0"
   ]
  },
  {
   "cell_type": "markdown",
   "metadata": {},
   "source": [
    "## 5.5 Select cooccurence threshold"
   ]
  },
  {
   "cell_type": "code",
   "execution_count": 18,
   "metadata": {},
   "outputs": [
    {
     "data": {
      "image/png": "[encoded data removed]",
      "text/plain": [
       "<Figure size 432x288 with 1 Axes>"
      ]
     },
     "metadata": {
      "needs_background": "light"
     },
     "output_type": "display_data"
    }
   ],
   "source": [
    "# show train reconstrucion losses distribution\n",
    "plt.title('Distribution of Cooccurence')\n",
    "sns.distplot(movieSimilarityDataFrame.select('cooccurence').collect(), bins=100, kde=True)\n",
    "plt.ylabel('Cardinality')\n",
    "plt.xlabel('Cooccurence');"
   ]
  },
  {
   "cell_type": "code",
   "execution_count": 19,
   "metadata": {},
   "outputs": [],
   "source": [
    "# refer to above plot and intuition I select cooccurence threshold above 20 \n",
    "COOCCURENCE_THRESHOLD = 20"
   ]
  },
  {
   "cell_type": "markdown",
   "metadata": {},
   "source": [
    "## 6 Create final movie pair similarities RDD"
   ]
  },
  {
   "cell_type": "code",
   "execution_count": 20,
   "metadata": {},
   "outputs": [],
   "source": [
    "# filter for movies with this sim that are \"good\" as defined by quality thresholds\n",
    "reducedMoviePairSimilarities = moviePairSimilarities.filter(lambda x: x[1][0] > SCORE_THRESHOLD\n",
    "                                                                  and x[1][1] > CATEGORY_THRESHOLD\n",
    "                                                                  and x[1][2] > COOCCURENCE_THRESHOLD).cache()"
   ]
  },
  {
   "cell_type": "markdown",
   "metadata": {},
   "source": [
    "## 7 Save final RDD to file for future use"
   ]
  },
  {
   "cell_type": "code",
   "execution_count": 21,
   "metadata": {},
   "outputs": [],
   "source": [
    "reducedMoviePairSimilarities.saveAsPickleFile('MoviePairSimilarities')\n",
    "reducedMoviePairSimilarities = spark.sparkContext.pickleFile('MoviePairSimilarities')"
   ]
  },
  {
   "cell_type": "markdown",
   "metadata": {},
   "source": [
    "## 8 Create recommendation system"
   ]
  },
  {
   "cell_type": "markdown",
   "metadata": {},
   "source": [
    "<b> Assumptions of the recommendation system: </b>\n",
    "- for each user rated movie, select n (default = 5) most similar movies\n",
    "- collect all movies and sort them by similarity rating metric (cosine)\n",
    "- recommend max n (default = 10) movies, avoid duplicates and movies, that user has already seen"
   ]
  },
  {
   "cell_type": "code",
   "execution_count": 29,
   "metadata": {},
   "outputs": [],
   "source": [
    "class RecommendationSystem():\n",
    "    '''movie recomendation system'''\n",
    "    \n",
    "    def __init__(self, moviePairRdd, movieNameDict, totalRecommendations, singleRecommendation):\n",
    " \n",
    "        self.moviePairRdd = moviePairRdd\n",
    "        self.totalRecommendations = totalRecommendations\n",
    "        self.singleRecommendation = singleRecommendation\n",
    "        self.movieNameDict = movieNameDict\n",
    "    \n",
    "    def makeRecomendation(self, userRatings):\n",
    "        '''driver function for recommendation'''\n",
    "        \n",
    "        # create list of similiraties for all user watched films\n",
    "        movieSimScores, movieSimTypes, movieCoOccurences,\\\n",
    "        movieNames, movieRecomendedBy = self.createSimLists(userRatings)\n",
    "\n",
    "        \n",
    "        # sort lists by similiry score ratings\n",
    "        sortedMovieSimScores, sortedMovieSimTypes, sortedMovieCoOccurences,\\\n",
    "        sortedMovieNames, sortedMovieRecomendedBy = self.sortSimLists(movieSimScores, movieSimTypes, \n",
    "                                                    movieCoOccurences, movieNames, movieRecomendedBy)\n",
    "        \n",
    "        # placeholder to control movie recomendations for user\n",
    "        recommendations = []\n",
    "\n",
    "        # iterate over all recomended film\n",
    "        for name, simScore, simType, coOccurence, recomendedBy in zip(sortedMovieNames, \n",
    "                                                                      sortedMovieSimScores, \n",
    "                                                                      sortedMovieSimTypes,\n",
    "                                                                      sortedMovieCoOccurences,\n",
    "                                                                      sortedMovieRecomendedBy):\n",
    "            # to avoid duplicates in recommendations\n",
    "            if name not in recommendations:\n",
    "                \n",
    "                # show remomended films\n",
    "                self.showRecommendation(len(recommendations)+1,\n",
    "                                        name,\n",
    "                                        recomendedBy,\n",
    "                                        simScore,\n",
    "                                        simType,\n",
    "                                        coOccurence)\n",
    "                \n",
    "                recommendations.append(name)\n",
    "\n",
    "                if len(recommendations) == self.totalRecommendations:\n",
    "                    break\n",
    "                    \n",
    "                    \n",
    "    def createSimLists(self, userRatings):\n",
    "        '''create lists of movie similarities'''\n",
    "        \n",
    "        # create empty placeholders\n",
    "        movieNames = []\n",
    "        movieSimScores = []\n",
    "        movieSimTypes = []\n",
    "        movieCoOccurences =[]\n",
    "        movieRecomendedBy = []\n",
    "        \n",
    "        # iterate over all user's watched film\n",
    "        for movieId, rating in userRatings.items():\n",
    "            # filter for movie pair contain user rated movie\n",
    "            filteredMovies = self.moviePairRdd.filter(lambda x: (x[0][0] == movieId or x[0][1] == movieId) )\n",
    "\n",
    "            # take only n best recommendation for each user movie\n",
    "            recomendedMovies = filteredMovies.sortBy(lambda x: x[1][0], ascending = False)\\\n",
    "                                             .take(self.singleRecommendation)\n",
    "\n",
    "            for recomendedMovie in recomendedMovies:\n",
    "                \n",
    "                movieKeys, simScores = recomendedMovie\n",
    "\n",
    "                if movieId == movieKeys[0]:\n",
    "                    similarMovieId = movieKeys[1]\n",
    "                else:\n",
    "                    similarMovieId = movieKeys[0]\n",
    "\n",
    "                # don't recomend movies, that the user has already seen\n",
    "                if similarMovieId not in userRatings.keys():\n",
    "                    \n",
    "                    # append similarity score multiple by user's rating for watched movie\n",
    "                    movieSimScores.append(simScores[0]*rating)\n",
    "                    # append category similarity\n",
    "                    movieSimTypes.append(simScores[1])\n",
    "                    # append movie coocurence\n",
    "                    movieCoOccurences.append(simScores[2])\n",
    "                    # append recomended movie name\n",
    "                    movieNames.append(self.movieNameDict[similarMovieId])\n",
    "                    # append user movie name thanks to whom this film was recommended\n",
    "                    movieRecomendedBy.append(self.movieNameDict[movieId])\n",
    "            \n",
    "        return movieSimScores, movieSimTypes, movieCoOccurences, movieNames, movieRecomendedBy\n",
    "        \n",
    "        \n",
    "    def sortSimLists(self, movieSimScores, movieSimTypes, movieCoOccurences,\n",
    "                     movieNames, movieRecomendedBy):\n",
    "        '''sort lists by similiry score ratings'''\n",
    "        \n",
    "        # reverse sort recomended movies by similarity score            \n",
    "        movieSimScores = np.array(movieSimScores)\n",
    "        idx = np.argsort(movieSimScores)[::-1]\n",
    "\n",
    "        # reorder items in placeholders using numpy array properties\n",
    "        movieSimScores = movieSimScores[idx]     \n",
    "        movieSimTypes = np.array(movieSimTypes)[idx] \n",
    "        movieCoOccurences = np.array(movieCoOccurences)[idx] \n",
    "        movieNames = np.array(movieNames)[idx]\n",
    "        movieRecomendedBy = np.array(movieRecomendedBy)[idx] \n",
    "        \n",
    "        # convert back to lists\n",
    "        return list(movieSimScores), list(movieSimTypes), list(movieCoOccurences),\\\n",
    "               list(movieNames), list(movieRecomendedBy)\n",
    "\n",
    "            \n",
    "    def showRecommendation(self, counter, movieName, recomendedMovieName, \n",
    "                           movieSimScore, movieSimType, movieCoOccurence):\n",
    "        ''' show single movie recomendation'''\n",
    "\n",
    "        print(f'Recomended Movie #{counter}',\n",
    "              f'Title: {movieName}',\n",
    "              f'Similarity Score: {round(movieSimScore,4)}',\n",
    "              f'Similarity Types: {round(movieSimType,4)}', \n",
    "              f'Cooccurence: {movieCoOccurence}',\n",
    "              f'Recommended by: {recomendedMovieName}',\n",
    "              '-'*100, sep='\\n')"
   ]
  },
  {
   "cell_type": "markdown",
   "metadata": {},
   "source": [
    "# 9 Test recommendation system"
   ]
  },
  {
   "cell_type": "markdown",
   "metadata": {},
   "source": [
    "Create 3 fictitious users and evaluate a recommendation system based on the movies proposed to them"
   ]
  },
  {
   "cell_type": "markdown",
   "metadata": {},
   "source": [
    "## 9.1 Create recomendation system object"
   ]
  },
  {
   "cell_type": "code",
   "execution_count": 37,
   "metadata": {},
   "outputs": [],
   "source": [
    "rs = RecommendationSystem(reducedMoviePairSimilarities, \n",
    "                          movieNameDict, \n",
    "                          totalRecommendations=10, \n",
    "                          singleRecommendation=5)"
   ]
  },
  {
   "cell_type": "markdown",
   "metadata": {},
   "source": [
    "## 9.2 Test #1"
   ]
  },
  {
   "cell_type": "markdown",
   "metadata": {},
   "source": [
    "<b> User rated movies </b>:\n",
    "- <i> Lord of the Rings: The Two Towers, The (2002) </i> on <b> 5 stars </b>\n",
    "- <i> Kill Bill: Vol. 1 (2003) </i> on <b> 5 stars </b> \n",
    "- <i> Harry Potter and the Chamber of Secrets (2002) </i> on <b> 1 stars </b>\n",
    "\n",
    "<b> Expected recomended movies </b>:\n",
    "- More movies from <i> the Lord of the Rings saga </i>\n",
    "- <i> Kill Bill: Vol. 2 </i>\n",
    "- No movies from the <i> Harry Potter saga </i>"
   ]
  },
  {
   "cell_type": "markdown",
   "metadata": {},
   "source": [
    "### 9.2.1 Create test user movie ratings"
   ]
  },
  {
   "cell_type": "code",
   "execution_count": 38,
   "metadata": {},
   "outputs": [
    {
     "name": "stdout",
     "output_type": "stream",
     "text": [
      "Movie ID: 5952 Title: Lord of the Rings: The Two Towers, The (2002)\n",
      "Movie ID: 6874 Title: Kill Bill: Vol. 1 (2003)\n",
      "Movie ID: 5816 Title: Harry Potter and the Chamber of Secrets (2002)\n"
     ]
    }
   ],
   "source": [
    "userRatings = {\n",
    "    5952:5,\n",
    "    6874:5, \n",
    "    5816:1  \n",
    "}\n",
    "\n",
    "for movieId in userRatings.keys():\n",
    "    print(f'Movie ID: {movieId} Title: {movieNameDict[movieId]}')"
   ]
  },
  {
   "cell_type": "markdown",
   "metadata": {},
   "source": [
    "### 9.2.2 Make recommendation"
   ]
  },
  {
   "cell_type": "code",
   "execution_count": 40,
   "metadata": {},
   "outputs": [
    {
     "name": "stdout",
     "output_type": "stream",
     "text": [
      "Recomended Movie #1\n",
      "Title: Lord of the Rings: The Fellowship of the Ring, The (2001)\n",
      "Similarity Score: 4.977\n",
      "Similarity Types: 1.0\n",
      "Cooccurence: 166\n",
      "Recommended by: Lord of the Rings: The Two Towers, The (2002)\n",
      "----------------------------------------------------------------------------------------------------\n",
      "Recomended Movie #2\n",
      "Title: Lord of the Rings: The Return of the King, The (2003)\n",
      "Similarity Score: 4.9679\n",
      "Similarity Types: 1.0\n",
      "Cooccurence: 161\n",
      "Recommended by: Lord of the Rings: The Two Towers, The (2002)\n",
      "----------------------------------------------------------------------------------------------------\n",
      "Recomended Movie #3\n",
      "Title: Kill Bill: Vol. 2 (2004)\n",
      "Similarity Score: 4.9676\n",
      "Similarity Types: 0.6667\n",
      "Cooccurence: 103\n",
      "Recommended by: Kill Bill: Vol. 1 (2003)\n",
      "----------------------------------------------------------------------------------------------------\n",
      "Recomended Movie #4\n",
      "Title: Army of Darkness (1993)\n",
      "Similarity Score: 4.9421\n",
      "Similarity Types: 0.2\n",
      "Cooccurence: 23\n",
      "Recommended by: Kill Bill: Vol. 1 (2003)\n",
      "----------------------------------------------------------------------------------------------------\n",
      "Recomended Movie #5\n",
      "Title: Spirited Away (Sen to Chihiro no kamikakushi) (2001)\n",
      "Similarity Score: 4.9276\n",
      "Similarity Types: 0.3333\n",
      "Cooccurence: 63\n",
      "Recommended by: Lord of the Rings: The Two Towers, The (2002)\n",
      "----------------------------------------------------------------------------------------------------\n",
      "Recomended Movie #6\n",
      "Title: Pulp Fiction (1994)\n",
      "Similarity Score: 4.924\n",
      "Similarity Types: 0.5\n",
      "Cooccurence: 99\n",
      "Recommended by: Kill Bill: Vol. 1 (2003)\n",
      "----------------------------------------------------------------------------------------------------\n",
      "Recomended Movie #7\n",
      "Title: Who Framed Roger Rabbit? (1988)\n",
      "Similarity Score: 4.9211\n",
      "Similarity Types: 0.1429\n",
      "Cooccurence: 39\n",
      "Recommended by: Kill Bill: Vol. 1 (2003)\n",
      "----------------------------------------------------------------------------------------------------\n",
      "Recomended Movie #8\n",
      "Title: Inglourious Basterds (2009)\n",
      "Similarity Score: 4.9196\n",
      "Similarity Types: 0.3333\n",
      "Cooccurence: 56\n",
      "Recommended by: Kill Bill: Vol. 1 (2003)\n",
      "----------------------------------------------------------------------------------------------------\n",
      "Recomended Movie #9\n",
      "Title: Edward Scissorhands (1990)\n",
      "Similarity Score: 4.9111\n",
      "Similarity Types: 0.3333\n",
      "Cooccurence: 52\n",
      "Recommended by: Lord of the Rings: The Two Towers, The (2002)\n",
      "----------------------------------------------------------------------------------------------------\n",
      "Recomended Movie #10\n",
      "Title: Toy Story 3 (2010)\n",
      "Similarity Score: 4.8948\n",
      "Similarity Types: 1.0\n",
      "Cooccurence: 44\n",
      "Recommended by: Lord of the Rings: The Two Towers, The (2002)\n",
      "----------------------------------------------------------------------------------------------------\n"
     ]
    }
   ],
   "source": [
    "# make recommendation\n",
    "rs.makeRecomendation(userRatings)"
   ]
  },
  {
   "cell_type": "markdown",
   "metadata": {},
   "source": [
    "### 9.2.3 Discussion of results"
   ]
  },
  {
   "cell_type": "markdown",
   "metadata": {},
   "source": [
    "<b> As expected in recommended movies appear </b>:\n",
    "- Movies from <i> the Lord of the Rings </i> saga\n",
    "- <i> Kill Bill: Vol. 2 </i>\n",
    "- No movies from <i> Harry Potter </i> saga\n",
    "\n",
    "<b> In addition in recommended movies appear </b>:\n",
    "- More <i> Quentin Tarantino </i> (director of <i> Kill Bill</i>) movies like: <i> Pulp Fiction </i> and <i> Inglourious Basterds </i> \n",
    "- <i> Army of Darkness </i> - I personally do not know this movie but from the sample photos and opinions it results from it has a very similar atmosphere to <i>the Lord of the Rings </i>\n",
    "- <i> Spirited Away </i> - Japanese anime in the atmosphere of magic and gods, very high marks and good reviews\n",
    "- <i> Who Framed Roger Rabbit? </i> - anime in the atmosphere of <i> Kill Bill </i>\n",
    "- <i> Toy Story 3  </i> - belongs to the same categories like <i> the Lord of the Rings </i>: Adventure, Fantasy\n",
    "- <i> Edward Scissorhands </i> - very good movie, but probably should not be on this list"
   ]
  },
  {
   "cell_type": "markdown",
   "metadata": {},
   "source": [
    "## 9.3 Test #2"
   ]
  },
  {
   "cell_type": "markdown",
   "metadata": {},
   "source": [
    "<b> User rated movies </b>:\n",
    "- <i> Lord of the Rings: The Two Towers, The (2002) </i> on <b> 4 stars </b>\n",
    "- <i> Kill Bill: Vol. 1 (2003) </i> on <b> 4.5 stars </b> \n",
    "- <i> Harry Potter and the Chamber of Secrets (2002) </i> on <b> 5 stars </b>\n",
    "\n",
    "<b> Expected recomended movies </b>:\n",
    "- More movies from <i> Harry Potter saga </i> on the first positions\n",
    "- <i> Kill Bill: Vol. 2 </i> and more movie similar to Kill Bill: Vol. 1\n",
    "- No movies similar to <i> Lord of the Rings: The Two Towers </i> - because the user gave him the lowest ranking"
   ]
  },
  {
   "cell_type": "markdown",
   "metadata": {},
   "source": [
    "### 9.3.1 Create test user movie ratings"
   ]
  },
  {
   "cell_type": "code",
   "execution_count": 43,
   "metadata": {},
   "outputs": [
    {
     "name": "stdout",
     "output_type": "stream",
     "text": [
      "Movie ID: 5952 Title: Lord of the Rings: The Two Towers, The (2002)\n",
      "Movie ID: 6874 Title: Kill Bill: Vol. 1 (2003)\n",
      "Movie ID: 5816 Title: Harry Potter and the Chamber of Secrets (2002)\n"
     ]
    }
   ],
   "source": [
    "userRatings = {\n",
    "    5952:4,\n",
    "    6874:4.5, \n",
    "    5816:5  \n",
    "}\n",
    "\n",
    "for movieId in userRatings.keys():\n",
    "    print(f'Movie ID: {movieId} Title: {movieNameDict[movieId]}')"
   ]
  },
  {
   "cell_type": "markdown",
   "metadata": {},
   "source": [
    "### 9.3.2 Make recommendation"
   ]
  },
  {
   "cell_type": "code",
   "execution_count": 44,
   "metadata": {},
   "outputs": [
    {
     "name": "stdout",
     "output_type": "stream",
     "text": [
      "Recomended Movie #1\n",
      "Title: Harry Potter and the Sorcerer's Stone (a.k.a. Harry Potter and the Philosopher's Stone) (2001)\n",
      "Similarity Score: 4.9743\n",
      "Similarity Types: 0.6667\n",
      "Cooccurence: 81\n",
      "Recommended by: Harry Potter and the Chamber of Secrets (2002)\n",
      "----------------------------------------------------------------------------------------------------\n",
      "Recomended Movie #2\n",
      "Title: Harry Potter and the Deathly Hallows: Part 2 (2011)\n",
      "Similarity Score: 4.9539\n",
      "Similarity Types: 1.0\n",
      "Cooccurence: 37\n",
      "Recommended by: Harry Potter and the Chamber of Secrets (2002)\n",
      "----------------------------------------------------------------------------------------------------\n",
      "Recomended Movie #3\n",
      "Title: Harry Potter and the Order of the Phoenix (2007)\n",
      "Similarity Score: 4.9538\n",
      "Similarity Types: 1.0\n",
      "Cooccurence: 50\n",
      "Recommended by: Harry Potter and the Chamber of Secrets (2002)\n",
      "----------------------------------------------------------------------------------------------------\n",
      "Recomended Movie #4\n",
      "Title: Harry Potter and the Goblet of Fire (2005)\n",
      "Similarity Score: 4.947\n",
      "Similarity Types: 1.0\n",
      "Cooccurence: 59\n",
      "Recommended by: Harry Potter and the Chamber of Secrets (2002)\n",
      "----------------------------------------------------------------------------------------------------\n",
      "Recomended Movie #5\n",
      "Title: Harry Potter and the Half-Blood Prince (2009)\n",
      "Similarity Score: 4.9353\n",
      "Similarity Types: 1.0\n",
      "Cooccurence: 43\n",
      "Recommended by: Harry Potter and the Chamber of Secrets (2002)\n",
      "----------------------------------------------------------------------------------------------------\n",
      "Recomended Movie #6\n",
      "Title: Kill Bill: Vol. 2 (2004)\n",
      "Similarity Score: 4.4708\n",
      "Similarity Types: 0.6667\n",
      "Cooccurence: 103\n",
      "Recommended by: Kill Bill: Vol. 1 (2003)\n",
      "----------------------------------------------------------------------------------------------------\n",
      "Recomended Movie #7\n",
      "Title: Army of Darkness (1993)\n",
      "Similarity Score: 4.4479\n",
      "Similarity Types: 0.2\n",
      "Cooccurence: 23\n",
      "Recommended by: Kill Bill: Vol. 1 (2003)\n",
      "----------------------------------------------------------------------------------------------------\n",
      "Recomended Movie #8\n",
      "Title: Pulp Fiction (1994)\n",
      "Similarity Score: 4.4316\n",
      "Similarity Types: 0.5\n",
      "Cooccurence: 99\n",
      "Recommended by: Kill Bill: Vol. 1 (2003)\n",
      "----------------------------------------------------------------------------------------------------\n",
      "Recomended Movie #9\n",
      "Title: Who Framed Roger Rabbit? (1988)\n",
      "Similarity Score: 4.429\n",
      "Similarity Types: 0.1429\n",
      "Cooccurence: 39\n",
      "Recommended by: Kill Bill: Vol. 1 (2003)\n",
      "----------------------------------------------------------------------------------------------------\n",
      "Recomended Movie #10\n",
      "Title: Inglourious Basterds (2009)\n",
      "Similarity Score: 4.4276\n",
      "Similarity Types: 0.3333\n",
      "Cooccurence: 56\n",
      "Recommended by: Kill Bill: Vol. 1 (2003)\n",
      "----------------------------------------------------------------------------------------------------\n"
     ]
    }
   ],
   "source": [
    "# make recommendation\n",
    "rs.makeRecomendation(userRatings)"
   ]
  },
  {
   "cell_type": "markdown",
   "metadata": {},
   "source": [
    "### 9.3.3 Discussion of results"
   ]
  },
  {
   "cell_type": "markdown",
   "metadata": {},
   "source": [
    "<b> As expected in recommended movies appear </b>:\n",
    "- On the first five positions - movies from the <i>Harry Potter </i> saga\n",
    "- On the other positions <i> Kill Bill: Vol. 2 </i> and similar movies to Kill Bill Vol.1\n",
    "- No movies from <i> the Lord of the Rings </i> saga"
   ]
  },
  {
   "cell_type": "markdown",
   "metadata": {},
   "source": [
    "## 9.4 Test #3"
   ]
  },
  {
   "cell_type": "markdown",
   "metadata": {},
   "source": [
    "<b> User rated movies </b>:\n",
    "- <i> Harry Potter and the Chamber of Secrets (2002) </i> on <b> 4.5 stars </b>\n",
    "- <i> Harry Potter and the Order of the Phoenix (2007) </i> on <b> 4.5 stars </b>\n",
    "- <i> Star Wars: Episode III - Revenge of the Sith (2005) </i> on <b> 5 stars </b>\n",
    "- <i> 300 (2007) </i> on <b> 5 stars </b>\n",
    "\n",
    "<b> Expected recomended movies </b>:\n",
    "- Some war, fantasy movies similar to <i> 300 </i> on the first positions\n",
    "- Some movies from <i> Star Wars </i> saga on the first positions\n",
    "- Maybe some movies from <i> Harry Potter </i> saga on last postions(depending on ohter films similarities) but without duplicate"
   ]
  },
  {
   "cell_type": "markdown",
   "metadata": {},
   "source": [
    "### 9.4.1 Create test user movie ratings"
   ]
  },
  {
   "cell_type": "code",
   "execution_count": 53,
   "metadata": {},
   "outputs": [
    {
     "name": "stdout",
     "output_type": "stream",
     "text": [
      "Movie ID: 5816 Title: Harry Potter and the Chamber of Secrets (2002)\n",
      "Movie ID: 54001 Title: Harry Potter and the Order of the Phoenix (2007)\n",
      "Movie ID: 33493 Title: Star Wars: Episode III - Revenge of the Sith (2005)\n",
      "Movie ID: 51662 Title: 300 (2007)\n"
     ]
    }
   ],
   "source": [
    "userRatings = {\n",
    "    5816:4.5,\n",
    "    54001:4.5, \n",
    "    33493:5,\n",
    "    51662:5,\n",
    "}\n",
    "\n",
    "for movieId in userRatings.keys():\n",
    "    print(f'Movie ID: {movieId} Title: {movieNameDict[movieId]}')"
   ]
  },
  {
   "cell_type": "markdown",
   "metadata": {},
   "source": [
    "### 9.4.2 Make recommendation"
   ]
  },
  {
   "cell_type": "code",
   "execution_count": 54,
   "metadata": {},
   "outputs": [
    {
     "name": "stdout",
     "output_type": "stream",
     "text": [
      "Recomended Movie #1\n",
      "Title: Gone in 60 Seconds (2000)\n",
      "Similarity Score: 4.9411\n",
      "Similarity Types: 0.5\n",
      "Cooccurence: 27\n",
      "Recommended by: Star Wars: Episode III - Revenge of the Sith (2005)\n",
      "----------------------------------------------------------------------------------------------------\n",
      "Recomended Movie #2\n",
      "Title: Heat (1995)\n",
      "Similarity Score: 4.9305\n",
      "Similarity Types: 0.3333\n",
      "Cooccurence: 25\n",
      "Recommended by: 300 (2007)\n",
      "----------------------------------------------------------------------------------------------------\n",
      "Recomended Movie #3\n",
      "Title: I Am Legend (2007)\n",
      "Similarity Score: 4.929\n",
      "Similarity Types: 0.5\n",
      "Cooccurence: 33\n",
      "Recommended by: 300 (2007)\n",
      "----------------------------------------------------------------------------------------------------\n",
      "Recomended Movie #4\n",
      "Title: Léon: The Professional (a.k.a. The Professional) (Léon) (1994)\n",
      "Similarity Score: 4.9276\n",
      "Similarity Types: 0.25\n",
      "Cooccurence: 35\n",
      "Recommended by: 300 (2007)\n",
      "----------------------------------------------------------------------------------------------------\n",
      "Recomended Movie #5\n",
      "Title: Armageddon (1998)\n",
      "Similarity Score: 4.9204\n",
      "Similarity Types: 0.25\n",
      "Cooccurence: 34\n",
      "Recommended by: 300 (2007)\n",
      "----------------------------------------------------------------------------------------------------\n",
      "Recomended Movie #6\n",
      "Title: Star Trek (2009)\n",
      "Similarity Score: 4.9173\n",
      "Similarity Types: 0.5\n",
      "Cooccurence: 29\n",
      "Recommended by: 300 (2007)\n",
      "----------------------------------------------------------------------------------------------------\n",
      "Recomended Movie #7\n",
      "Title: Star Wars: Episode II - Attack of the Clones (2002)\n",
      "Similarity Score: 4.9169\n",
      "Similarity Types: 0.75\n",
      "Cooccurence: 58\n",
      "Recommended by: Star Wars: Episode III - Revenge of the Sith (2005)\n",
      "----------------------------------------------------------------------------------------------------\n",
      "Recomended Movie #8\n",
      "Title: Blood Diamond (2006)\n",
      "Similarity Score: 4.9167\n",
      "Similarity Types: 0.6667\n",
      "Cooccurence: 29\n",
      "Recommended by: Star Wars: Episode III - Revenge of the Sith (2005)\n",
      "----------------------------------------------------------------------------------------------------\n",
      "Recomended Movie #9\n",
      "Title: Harry Potter and the Sorcerer's Stone (a.k.a. Harry Potter and the Philosopher's Stone) (2001)\n",
      "Similarity Score: 4.4769\n",
      "Similarity Types: 0.6667\n",
      "Cooccurence: 81\n",
      "Recommended by: Harry Potter and the Chamber of Secrets (2002)\n",
      "----------------------------------------------------------------------------------------------------\n",
      "Recomended Movie #10\n",
      "Title: Harry Potter and the Deathly Hallows: Part 2 (2011)\n",
      "Similarity Score: 4.4592\n",
      "Similarity Types: 1.0\n",
      "Cooccurence: 35\n",
      "Recommended by: Harry Potter and the Order of the Phoenix (2007)\n",
      "----------------------------------------------------------------------------------------------------\n"
     ]
    }
   ],
   "source": [
    "# make recommendation\n",
    "rs.makeRecomendation(userRatings)"
   ]
  },
  {
   "cell_type": "markdown",
   "metadata": {},
   "source": [
    "### 9.4.3 Discussion of results"
   ]
  },
  {
   "cell_type": "markdown",
   "metadata": {},
   "source": [
    "<b> As expected in recommended movies appear </b>:\n",
    "- Five action, war movies similar to <i> 300 </i> movie \n",
    "- Two movies from <i> Harry Potter </i> saga, despite the slightly lower user rating for these videos\n",
    "\n",
    "<b> Unexpected results </b>\n",
    "- Only one movie from <i> StarWars </i> saga\n",
    "- <i> Gone in 60 Seconds </i> movie is more sillimar to <i> Star Wars: Episode III - Revenge of the Sith </i> than any other episode of <i> Star Wars </i> - this may be because <i> Star Wars: Episode III - Revenge of the Sith </i> is not considered a successful movie\n"
   ]
  },
  {
   "cell_type": "markdown",
   "metadata": {},
   "source": [
    "# 10 Final Conclussions"
   ]
  },
  {
   "cell_type": "markdown",
   "metadata": {},
   "source": [
    "<b> Overal summary </b>:\n",
    "- I think that this  movie recommendation system work pretty well and can be use to see really interesting movies based on user preferences\n",
    "\n",
    "<b> Future improvement </b>:\n",
    "- Use largest and modern movie ratings dataset\n",
    "- Add more features to the system like: director, actors, tags\n",
    "- Use diffrent algorithm like ALS or other Machine Learning models"
   ]
  }
 ],
 "metadata": {
  "kernelspec": {
   "display_name": "Python 3",
   "language": "python",
   "name": "python3"
  },
  "language_info": {
   "codemirror_mode": {
    "name": "ipython",
    "version": 3
   },
   "file_extension": ".py",
   "mimetype": "text/x-python",
   "name": "python",
   "nbconvert_exporter": "python",
   "pygments_lexer": "ipython3",
   "version": "3.7.6"
  }
 },
 "nbformat": 4,
 "nbformat_minor": 4
}
